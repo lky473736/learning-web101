{
 "cells": [
  {
   "cell_type": "markdown",
   "metadata": {},
   "source": [
    "## 주피터 노트북에서 html 파일 작동해보기"
   ]
  },
  {
   "cell_type": "code",
   "execution_count": 5,
   "metadata": {
    "vscode": {
     "languageId": "html"
    }
   },
   "outputs": [
    {
     "data": {
      "text/html": [
       "<html lang=\"en\">\n",
       "<head>\n",
       "    <meta charset=\"UTF-8\">\n",
       "    <meta name=\"viewport\" content=\"width=device-width, initial-scale=1.0\">\n",
       "    <title>Document</title>\n",
       "</head>\n",
       "<body>\n",
       "    <h1>hello html in Jupyter Notebook</h1>\n",
       "</body>\n",
       "</html>\n"
      ],
      "text/plain": [
       "<IPython.core.display.HTML object>"
      ]
     },
     "metadata": {},
     "output_type": "display_data"
    }
   ],
   "source": [
    "%%html\n",
    "<html lang=\"en\">\n",
    "<head>\n",
    "    <meta charset=\"UTF-8\">\n",
    "    <meta name=\"viewport\" content=\"width=device-width, initial-scale=1.0\">\n",
    "    <title>Document</title>\n",
    "</head>\n",
    "<body>\n",
    "    <h1>hello html in Jupyter Notebook</h1>\n",
    "</body>\n",
    "</html>"
   ]
  },
  {
   "cell_type": "code",
   "execution_count": 3,
   "metadata": {
    "vscode": {
     "languageId": "html"
    }
   },
   "outputs": [
    {
     "data": {
      "text/html": [
       "<html lang=\"en\">\n",
       "<head>\n",
       "    <meta charset=\"UTF-8\">\n",
       "    <meta name=\"viewport\" content=\"width=device-width, initial-scale=1.0\">\n",
       "    <title>box model</title>\n",
       "    <style>\n",
       "        .parent{\n",
       "            margin : auto;\n",
       "            border : 10px solid blue;\n",
       "            width : 200px;\n",
       "            height : 200px;\n",
       "        }\n",
       "\n",
       "        .child{\n",
       "            width : 200;\n",
       "            margin : auto;\n",
       "            margin-top : 30;\n",
       "            margin-bottom : 30;\n",
       "            border : 10px solid red;\n",
       "            padding : 10px;\n",
       "            width : 50%; /*부모요소의 content영역의 50%*/\n",
       "            height : 50%; /*부모요소의 contetn영역의 50%*/\n",
       "        }\n",
       "    </style>\n",
       "</head>\n",
       "<body>\n",
       "    <div class=\"parent\">\n",
       "        <div class=\"child\">\n",
       "        </div>\n",
       "    </div>\n",
       "</body>\n",
       "</html>\n"
      ],
      "text/plain": [
       "<IPython.core.display.HTML object>"
      ]
     },
     "metadata": {},
     "output_type": "display_data"
    }
   ],
   "source": [
    "%%html\n",
    "<html lang=\"en\">\n",
    "<head>\n",
    "    <meta charset=\"UTF-8\">\n",
    "    <meta name=\"viewport\" content=\"width=device-width, initial-scale=1.0\">\n",
    "    <title>box model</title>\n",
    "    <style>\n",
    "        .parent{\n",
    "            margin : auto;\n",
    "            border : 10px solid blue;\n",
    "            width : 200px;\n",
    "            height : 200px;\n",
    "        }\n",
    "\n",
    "        .child{\n",
    "            width : 200;\n",
    "            margin : auto;\n",
    "            margin-top : 30;\n",
    "            margin-bottom : 30;\n",
    "            border : 10px solid red;\n",
    "            padding : 10px;\n",
    "            width : 50%; /*부모요소의 content영역의 50%*/\n",
    "            height : 50%; /*부모요소의 contetn영역의 50%*/\n",
    "        }\n",
    "    </style>\n",
    "</head>\n",
    "<body>\n",
    "    <div class=\"parent\">\n",
    "        <div class=\"child\">\n",
    "        </div>\n",
    "    </div>\n",
    "</body>\n",
    "</html>"
   ]
  }
 ],
 "metadata": {
  "kernelspec": {
   "display_name": "Python 3",
   "language": "python",
   "name": "python3"
  },
  "language_info": {
   "codemirror_mode": {
    "name": "ipython",
    "version": 3
   },
   "file_extension": ".py",
   "mimetype": "text/x-python",
   "name": "python",
   "nbconvert_exporter": "python",
   "pygments_lexer": "ipython3",
   "version": "3.12.1"
  }
 },
 "nbformat": 4,
 "nbformat_minor": 2
}
